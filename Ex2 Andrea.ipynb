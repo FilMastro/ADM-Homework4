{
 "cells": [
  {
   "cell_type": "code",
   "execution_count": 11,
   "id": "01fe9adb",
   "metadata": {},
   "outputs": [],
   "source": [
    "import matplotlib.pyplot as plt\n",
    "import pandas as pd\n",
    "import numpy as np\n",
    "pd.set_option('display.max_columns', None)\n",
    "pd.set_option('display.max_rows', None)\n",
    "from sklearn.decomposition import PCA\n",
    "import math"
   ]
  },
  {
   "cell_type": "code",
   "execution_count": 12,
   "id": "8cc2078f",
   "metadata": {},
   "outputs": [],
   "source": [
    "def K_scratch(dataframe,k,iters):\n",
    "    print(\"k ==\",k)\n",
    "    #it moves the keys at the end of the rows\n",
    "    ids=dataframe[\"track_id\"].copy()\n",
    "    del dataframe[\"track_id\"]\n",
    "    dataframe[\"track_id\"]=ids\n",
    "    dataframe[\"cluster_#\"]=0\n",
    "\n",
    "    differences=[]\n",
    "    \n",
    "    #it takes k rows from the dataframe excluding the string columns\n",
    "    centroids=dataframe.iloc[:,:-5].sample(n=k)\n",
    "    first=False\n",
    "    diff=1\n",
    "    steps=1\n",
    "    PastDistance=0\n",
    "    dataframe[\"cluster_#\"]=0\n",
    "    while diff!=0 and steps<=iters:\n",
    "        distanceSum=0\n",
    "        steps+=1\n",
    "        #reset the column cluster_#\n",
    "        #it iterates on each row(point)\n",
    "        for i in range(len(dataframe)):\n",
    "            #it keeps the distance of each node to the k clusters\n",
    "            support=np.zeros(k)\n",
    "            #it iterates on each centroids\n",
    "            for j in range(len(centroids)):\n",
    "                #it fills with all the distances\n",
    "                r=np.asarray(dataframe.iloc[i,:-5])\n",
    "                c=np.asarray(centroids.iloc[j,:])\n",
    "                dist = np.linalg.norm(r-c)\n",
    "                support[j]=dist\n",
    "            #it associates the  i point to the cluster that minimize the distance that corrisponds to the index of support\n",
    "            index=np.argmin(support)\n",
    "            #it measure the total distance from each point to the centroid that is the nearest\n",
    "            distanceSum+=support[index]\n",
    "            dataframe.loc[i,\"cluster_#\"]=index\n",
    "            #new centroids\n",
    "        differences.append(distanceSum)   \n",
    "        new_centroids=dataframe.groupby([\"cluster_#\"],group_keys=False).mean().iloc[:,:-1]\n",
    "        if first:\n",
    "            v=new_centroids-centroids\n",
    "            diff=np.sum(np.sum(v,axis=1))\n",
    "            #diff=distanceSum-PastDistance\n",
    "            PastDistance=distanceSum\n",
    "            centroids=new_centroids.copy()\n",
    "        else:\n",
    "            diff=1\n",
    "            PastDistance=distanceSum\n",
    "            centroids=new_centroids.copy()\n",
    "            first=True\n",
    "    vect=np.asarray(differences)\n",
    "    return vect"
   ]
  },
  {
   "cell_type": "code",
   "execution_count": 13,
   "id": "cfc10665",
   "metadata": {},
   "outputs": [
    {
     "data": {
      "text/plain": [
       "(13129, 60)"
      ]
     },
     "execution_count": 13,
     "metadata": {},
     "output_type": "execute_result"
    }
   ],
   "source": [
    "dataset=pd.read_csv(\"final_dataset.csv\")\n",
    "dataset2=dataset.copy()\n",
    "dataset2.shape"
   ]
  },
  {
   "cell_type": "code",
   "execution_count": 15,
   "id": "c5affe53",
   "metadata": {},
   "outputs": [
    {
     "name": "stdout",
     "output_type": "stream",
     "text": [
      "k == 11\n"
     ]
    },
    {
     "data": {
      "image/png": "[encoded data removed]",
      "text/plain": [
       "<Figure size 432x288 with 1 Axes>"
      ]
     },
     "metadata": {
      "needs_background": "light"
     },
     "output_type": "display_data"
    },
    {
     "name": "stdout",
     "output_type": "stream",
     "text": [
      "Wall time: 6min 19s\n"
     ]
    }
   ],
   "source": [
    "%%time\n",
    "vect=K_scratch(dataset,11,10)\n",
    "plt.plot(vect)\n",
    "plt.show()"
   ]
  },
  {
   "cell_type": "code",
   "execution_count": 156,
   "id": "941eab2c",
   "metadata": {},
   "outputs": [],
   "source": [
    "def printPivotTable(var):\n",
    "    col = [\"Variables\", \"Cluster #1\", \"Cluster #2\", \"Cluster #3\", \"Cluster #4\", \"Cluster #5\", \"Cluster #6\",\n",
    "           \"Cluster #7\", \"Cluster #8\", \"Cluster #9\", \"Cluster #10\", \"Cluster #11\"]\n",
    "    df  = pd.DataFrame(columns=col, index=None)\n",
    "    \n",
    "    if var == \"bit\":\n",
    "        df[\"Variables\"] = [\"< 80\",\"< 130\",\"< 180\", \"> 180\", \"\"]\n",
    "        for name in col[1:]:\n",
    "            n_cluster = int(name.split(\"#\")[1])\n",
    "            l = [0,0,0,0,0]\n",
    "            list_track = track[dataset[\"cluster_#\"] == n_cluster-1]\n",
    "            \n",
    "            for x in list_track.audio_features_tempo:\n",
    "                if x < 80:\n",
    "                    l[0] += 1\n",
    "                elif 80 < x < 130:\n",
    "                    l[1] += 1\n",
    "                elif 130 < x < 180:\n",
    "                    l[2] += 1\n",
    "                elif 180 < x:\n",
    "                    l[3] += 1\n",
    "                \n",
    "            l = [round(100*x/len(list_track.audio_features_tempo),2) for x in l]\n",
    "            s = sum(l)\n",
    "            l[4] = s\n",
    "            l = ['{:.2f}'.format(x)+\"%\" for x in l]\n",
    "            df[name] = l \n",
    "            \n",
    "    return df "
   ]
  },
  {
   "cell_type": "code",
   "execution_count": 157,
   "id": "8e14492d",
   "metadata": {
    "scrolled": true
   },
   "outputs": [
    {
     "data": {
      "text/html": [
       "<div>\n",
       "<style scoped>\n",
       "    .dataframe tbody tr th:only-of-type {\n",
       "        vertical-align: middle;\n",
       "    }\n",
       "\n",
       "    .dataframe tbody tr th {\n",
       "        vertical-align: top;\n",
       "    }\n",
       "\n",
       "    .dataframe thead th {\n",
       "        text-align: right;\n",
       "    }\n",
       "</style>\n",
       "<table border=\"1\" class=\"dataframe\">\n",
       "  <thead>\n",
       "    <tr style=\"text-align: right;\">\n",
       "      <th></th>\n",
       "      <th>Variables</th>\n",
       "      <th>Cluster #1</th>\n",
       "      <th>Cluster #2</th>\n",
       "      <th>Cluster #3</th>\n",
       "      <th>Cluster #4</th>\n",
       "      <th>Cluster #5</th>\n",
       "      <th>Cluster #6</th>\n",
       "      <th>Cluster #7</th>\n",
       "      <th>Cluster #8</th>\n",
       "      <th>Cluster #9</th>\n",
       "      <th>Cluster #10</th>\n",
       "      <th>Cluster #11</th>\n",
       "    </tr>\n",
       "  </thead>\n",
       "  <tbody>\n",
       "    <tr>\n",
       "      <th>0</th>\n",
       "      <td>&lt; 80</td>\n",
       "      <td>4.91%</td>\n",
       "      <td>10.02%</td>\n",
       "      <td>11.68%</td>\n",
       "      <td>22.55%</td>\n",
       "      <td>5.47%</td>\n",
       "      <td>17.11%</td>\n",
       "      <td>10.85%</td>\n",
       "      <td>11.87%</td>\n",
       "      <td>5.22%</td>\n",
       "      <td>4.07%</td>\n",
       "      <td>9.00%</td>\n",
       "    </tr>\n",
       "    <tr>\n",
       "      <th>1</th>\n",
       "      <td>&lt; 130</td>\n",
       "      <td>46.60%</td>\n",
       "      <td>54.66%</td>\n",
       "      <td>54.08%</td>\n",
       "      <td>54.52%</td>\n",
       "      <td>58.58%</td>\n",
       "      <td>55.08%</td>\n",
       "      <td>57.58%</td>\n",
       "      <td>56.38%</td>\n",
       "      <td>55.32%</td>\n",
       "      <td>43.76%</td>\n",
       "      <td>56.06%</td>\n",
       "    </tr>\n",
       "    <tr>\n",
       "      <th>2</th>\n",
       "      <td>&lt; 180</td>\n",
       "      <td>37.10%</td>\n",
       "      <td>27.93%</td>\n",
       "      <td>30.43%</td>\n",
       "      <td>19.36%</td>\n",
       "      <td>29.56%</td>\n",
       "      <td>22.18%</td>\n",
       "      <td>27.62%</td>\n",
       "      <td>26.71%</td>\n",
       "      <td>31.19%</td>\n",
       "      <td>44.95%</td>\n",
       "      <td>30.93%</td>\n",
       "    </tr>\n",
       "    <tr>\n",
       "      <th>3</th>\n",
       "      <td>&gt; 180</td>\n",
       "      <td>11.31%</td>\n",
       "      <td>7.39%</td>\n",
       "      <td>3.80%</td>\n",
       "      <td>3.57%</td>\n",
       "      <td>6.39%</td>\n",
       "      <td>5.64%</td>\n",
       "      <td>3.95%</td>\n",
       "      <td>5.04%</td>\n",
       "      <td>8.16%</td>\n",
       "      <td>7.22%</td>\n",
       "      <td>4.01%</td>\n",
       "    </tr>\n",
       "    <tr>\n",
       "      <th>4</th>\n",
       "      <td></td>\n",
       "      <td>99.92%</td>\n",
       "      <td>100.00%</td>\n",
       "      <td>99.99%</td>\n",
       "      <td>100.00%</td>\n",
       "      <td>100.00%</td>\n",
       "      <td>100.01%</td>\n",
       "      <td>100.00%</td>\n",
       "      <td>100.00%</td>\n",
       "      <td>99.89%</td>\n",
       "      <td>100.00%</td>\n",
       "      <td>100.00%</td>\n",
       "    </tr>\n",
       "  </tbody>\n",
       "</table>\n",
       "</div>"
      ],
      "text/plain": [
       "  Variables Cluster #1 Cluster #2 Cluster #3 Cluster #4 Cluster #5 Cluster #6  \\\n",
       "0      < 80      4.91%     10.02%     11.68%     22.55%      5.47%     17.11%   \n",
       "1     < 130     46.60%     54.66%     54.08%     54.52%     58.58%     55.08%   \n",
       "2     < 180     37.10%     27.93%     30.43%     19.36%     29.56%     22.18%   \n",
       "3     > 180     11.31%      7.39%      3.80%      3.57%      6.39%      5.64%   \n",
       "4               99.92%    100.00%     99.99%    100.00%    100.00%    100.01%   \n",
       "\n",
       "  Cluster #7 Cluster #8 Cluster #9 Cluster #10 Cluster #11  \n",
       "0     10.85%     11.87%      5.22%       4.07%       9.00%  \n",
       "1     57.58%     56.38%     55.32%      43.76%      56.06%  \n",
       "2     27.62%     26.71%     31.19%      44.95%      30.93%  \n",
       "3      3.95%      5.04%      8.16%       7.22%       4.01%  \n",
       "4    100.00%    100.00%     99.89%     100.00%     100.00%  "
      ]
     },
     "execution_count": 157,
     "metadata": {},
     "output_type": "execute_result"
    }
   ],
   "source": [
    "printPivotTable(\"bit\")"
   ]
  },
  {
   "cell_type": "code",
   "execution_count": null,
   "id": "ad69df2d",
   "metadata": {},
   "outputs": [],
   "source": []
  }
 ],
 "metadata": {
  "kernelspec": {
   "display_name": "Python 3",
   "language": "python",
   "name": "python3"
  },
  "language_info": {
   "codemirror_mode": {
    "name": "ipython",
    "version": 3
   },
   "file_extension": ".py",
   "mimetype": "text/x-python",
   "name": "python",
   "nbconvert_exporter": "python",
   "pygments_lexer": "ipython3",
   "version": "3.8.8"
  }
 },
 "nbformat": 4,
 "nbformat_minor": 5
}
